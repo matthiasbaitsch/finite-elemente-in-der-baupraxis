{
 "cells": [
  {
   "cell_type": "markdown",
   "metadata": {},
   "source": [
    "# Test implementation of Robin BCs"
   ]
  },
  {
   "cell_type": "code",
   "execution_count": 2,
   "metadata": {},
   "outputs": [],
   "source": [
    "import CairoMakie: update_theme!\n",
    "\n",
    "using Revise\n",
    "using MMJMesh\n",
    "using MMJMesh.Meshes\n",
    "using MMJMesh.Plots\n",
    "using LinearAlgebra\n",
    "\n",
    "\n",
    "include(\"fem.jl\")\n",
    "include(\"heat.jl\")\n",
    "update_theme!(colormap=:acton)"
   ]
  },
  {
   "cell_type": "markdown",
   "metadata": {},
   "source": [
    "## Prepare"
   ]
  },
  {
   "cell_type": "code",
   "execution_count": 5,
   "metadata": {},
   "outputs": [
    {
     "data": {
      "text/plain": [
       "Edge{2, 2}[1]"
      ]
     },
     "metadata": {},
     "output_type": "display_data"
    }
   ],
   "source": [
    "m = Mesh([1.1 3.2; 0.2 5.8], [[1,2]], 1)\n",
    "e = edge(m, 1)"
   ]
  },
  {
   "cell_type": "code",
   "execution_count": 7,
   "metadata": {},
   "outputs": [],
   "source": [
    "x = [1.1 3.2; 0.2 5.8]\n",
    "ree = [14.802486488762620; 14.802486488762620]\n",
    "kee = [6.578882883894498 3.289441441947249; 3.289441441947249 6.578882883894498];"
   ]
  },
  {
   "cell_type": "markdown",
   "metadata": {},
   "source": [
    "## Test robinRe"
   ]
  },
  {
   "cell_type": "code",
   "execution_count": 8,
   "metadata": {},
   "outputs": [
    {
     "name": "stdout",
     "output_type": "stream",
     "text": [
      "re = [14.80248648876262, 14.80248648876262]\n",
      "Should be zero: "
     ]
    },
    {
     "name": "stdout",
     "output_type": "stream",
     "text": [
      "0.0\n"
     ]
    }
   ],
   "source": [
    "reFunc = robinRe(3.3, 1.5)\n",
    "re = reFunc(e)\n",
    "println(\"re = \", re)\n",
    "println(\"Should be zero: \", norm(re - ree))"
   ]
  },
  {
   "cell_type": "markdown",
   "metadata": {},
   "source": [
    "## Test robinKe"
   ]
  },
  {
   "cell_type": "code",
   "execution_count": 9,
   "metadata": {},
   "outputs": [
    {
     "name": "stdout",
     "output_type": "stream",
     "text": [
      "re = "
     ]
    },
    {
     "name": "stdout",
     "output_type": "stream",
     "text": [
      "[6.578882883894498 3.289441441947249; 3.289441441947249 6.578882883894498]\n",
      "Should be zero: 0.0\n"
     ]
    }
   ],
   "source": [
    "keFunc = robinKe(3.3)\n",
    "ke = keFunc(e)\n",
    "println(\"re = \", ke)\n",
    "println(\"Should be zero: \", norm(ke - kee))"
   ]
  }
 ],
 "metadata": {
  "interpreter": {
   "hash": "f3d2abbc107c63ca577c819933080c8e0aff9672750e85650b4bb8da95fe96d1"
  },
  "kernelspec": {
   "display_name": "Julia 1.10.0",
   "language": "julia",
   "name": "julia-1.10"
  },
  "language_info": {
   "file_extension": ".jl",
   "mimetype": "application/julia",
   "name": "julia",
   "version": "1.10.0"
  },
  "orig_nbformat": 4
 },
 "nbformat": 4,
 "nbformat_minor": 2
}
