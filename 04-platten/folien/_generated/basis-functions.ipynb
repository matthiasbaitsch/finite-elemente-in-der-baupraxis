{
  "cells": [
    {
      "cell_type": "markdown",
      "metadata": {},
      "source": [
        "## \n",
        "Basisfunktion $\\quad \\varphi_{1}$"
      ],
      "id": "b637259b"
    },
    {
      "cell_type": "code",
      "metadata": {},
      "source": [
        "plotw(\n",
        "    m, \n",
        "    ei(NN, adofs[1]), \n",
        "    w=1200, h=550, # colorrange=[-1, 1], # colormap=:redblue,\n",
        "    limits=(nothing,nothing,(-1,1))\n",
        ")"
      ],
      "id": "980d8493",
      "execution_count": null,
      "outputs": []
    },
    {
      "cell_type": "markdown",
      "metadata": {},
      "source": [
        "## \n",
        "Basisfunktion $\\quad \\varphi_{2}$"
      ],
      "id": "a104bda1"
    },
    {
      "cell_type": "code",
      "metadata": {},
      "source": [
        "plotw(\n",
        "    m, \n",
        "    ei(NN, adofs[2]), \n",
        "    w=1200, h=550, # colorrange=[-1, 1], # colormap=:redblue,\n",
        "    limits=(nothing,nothing,(-1,1))\n",
        ")"
      ],
      "id": "d0bdb375",
      "execution_count": null,
      "outputs": []
    },
    {
      "cell_type": "markdown",
      "metadata": {},
      "source": [
        "## \n",
        "Basisfunktion $\\quad \\varphi_{3}$"
      ],
      "id": "c930c6f0"
    },
    {
      "cell_type": "code",
      "metadata": {},
      "source": [
        "plotw(\n",
        "    m, \n",
        "    ei(NN, adofs[3]), \n",
        "    w=1200, h=550, # colorrange=[-1, 1], # colormap=:redblue,\n",
        "    limits=(nothing,nothing,(-1,1))\n",
        ")"
      ],
      "id": "8d86789a",
      "execution_count": null,
      "outputs": []
    },
    {
      "cell_type": "markdown",
      "metadata": {},
      "source": [
        "## \n",
        "Basisfunktion $\\quad \\varphi_{4}$"
      ],
      "id": "414f8ce9"
    },
    {
      "cell_type": "code",
      "metadata": {},
      "source": [
        "plotw(\n",
        "    m, \n",
        "    ei(NN, adofs[4]), \n",
        "    w=1200, h=550, # colorrange=[-1, 1], # colormap=:redblue,\n",
        "    limits=(nothing,nothing,(-1,1))\n",
        ")"
      ],
      "id": "6b10005a",
      "execution_count": null,
      "outputs": []
    },
    {
      "cell_type": "markdown",
      "metadata": {},
      "source": [
        "## \n",
        "Basisfunktion $\\quad \\varphi_{5}$"
      ],
      "id": "c4b20c52"
    },
    {
      "cell_type": "code",
      "metadata": {},
      "source": [
        "plotw(\n",
        "    m, \n",
        "    ei(NN, adofs[5]), \n",
        "    w=1200, h=550, # colorrange=[-1, 1], # colormap=:redblue,\n",
        "    limits=(nothing,nothing,(-1,1))\n",
        ")"
      ],
      "id": "2ba2c38f",
      "execution_count": null,
      "outputs": []
    },
    {
      "cell_type": "markdown",
      "metadata": {},
      "source": [
        "## \n",
        "Basisfunktion $\\quad \\varphi_{6}$"
      ],
      "id": "05d19e2d"
    },
    {
      "cell_type": "code",
      "metadata": {},
      "source": [
        "plotw(\n",
        "    m, \n",
        "    ei(NN, adofs[6]), \n",
        "    w=1200, h=550, # colorrange=[-1, 1], # colormap=:redblue,\n",
        "    limits=(nothing,nothing,(-1,1))\n",
        ")"
      ],
      "id": "4d0a28ac",
      "execution_count": null,
      "outputs": []
    },
    {
      "cell_type": "markdown",
      "metadata": {},
      "source": [
        "## \n",
        "Basisfunktion $\\quad \\varphi_{7}$"
      ],
      "id": "84fbf84e"
    },
    {
      "cell_type": "code",
      "metadata": {},
      "source": [
        "plotw(\n",
        "    m, \n",
        "    ei(NN, adofs[7]), \n",
        "    w=1200, h=550, # colorrange=[-1, 1], # colormap=:redblue,\n",
        "    limits=(nothing,nothing,(-1,1))\n",
        ")"
      ],
      "id": "c654e216",
      "execution_count": null,
      "outputs": []
    },
    {
      "cell_type": "markdown",
      "metadata": {},
      "source": [
        "## \n",
        "Basisfunktion $\\quad \\varphi_{8}$"
      ],
      "id": "76d706c4"
    },
    {
      "cell_type": "code",
      "metadata": {},
      "source": [
        "plotw(\n",
        "    m, \n",
        "    ei(NN, adofs[8]), \n",
        "    w=1200, h=550, # colorrange=[-1, 1], # colormap=:redblue,\n",
        "    limits=(nothing,nothing,(-1,1))\n",
        ")"
      ],
      "id": "e69ee857",
      "execution_count": null,
      "outputs": []
    },
    {
      "cell_type": "markdown",
      "metadata": {},
      "source": [
        "## \n",
        "Basisfunktion $\\quad \\varphi_{9}$"
      ],
      "id": "b9327c3e"
    },
    {
      "cell_type": "code",
      "metadata": {},
      "source": [
        "plotw(\n",
        "    m, \n",
        "    ei(NN, adofs[9]), \n",
        "    w=1200, h=550, # colorrange=[-1, 1], # colormap=:redblue,\n",
        "    limits=(nothing,nothing,(-1,1))\n",
        ")"
      ],
      "id": "fa078492",
      "execution_count": null,
      "outputs": []
    },
    {
      "cell_type": "markdown",
      "metadata": {},
      "source": [
        "## \n",
        "Basisfunktion $\\quad \\varphi_{10}$"
      ],
      "id": "f4a52826"
    },
    {
      "cell_type": "code",
      "metadata": {},
      "source": [
        "plotw(\n",
        "    m, \n",
        "    ei(NN, adofs[10]), \n",
        "    w=1200, h=550, # colorrange=[-1, 1], # colormap=:redblue,\n",
        "    limits=(nothing,nothing,(-1,1))\n",
        ")"
      ],
      "id": "352657d4",
      "execution_count": null,
      "outputs": []
    },
    {
      "cell_type": "markdown",
      "metadata": {},
      "source": [
        "## \n",
        "Basisfunktion $\\quad \\varphi_{11}$"
      ],
      "id": "52fe32ec"
    },
    {
      "cell_type": "code",
      "metadata": {},
      "source": [
        "plotw(\n",
        "    m, \n",
        "    ei(NN, adofs[11]), \n",
        "    w=1200, h=550, # colorrange=[-1, 1], # colormap=:redblue,\n",
        "    limits=(nothing,nothing,(-1,1))\n",
        ")"
      ],
      "id": "58f5ecae",
      "execution_count": null,
      "outputs": []
    },
    {
      "cell_type": "markdown",
      "metadata": {},
      "source": [
        "## \n",
        "Basisfunktion $\\quad \\varphi_{12}$"
      ],
      "id": "904843c9"
    },
    {
      "cell_type": "code",
      "metadata": {},
      "source": [
        "plotw(\n",
        "    m, \n",
        "    ei(NN, adofs[12]), \n",
        "    w=1200, h=550, # colorrange=[-1, 1], # colormap=:redblue,\n",
        "    limits=(nothing,nothing,(-1,1))\n",
        ")"
      ],
      "id": "bd8233d6",
      "execution_count": null,
      "outputs": []
    },
    {
      "cell_type": "markdown",
      "metadata": {},
      "source": [
        "## \n",
        "Basisfunktion $\\quad \\varphi_{13}$"
      ],
      "id": "36810164"
    },
    {
      "cell_type": "code",
      "metadata": {},
      "source": [
        "plotw(\n",
        "    m, \n",
        "    ei(NN, adofs[13]), \n",
        "    w=1200, h=550, # colorrange=[-1, 1], # colormap=:redblue,\n",
        "    limits=(nothing,nothing,(-1,1))\n",
        ")"
      ],
      "id": "d677a152",
      "execution_count": null,
      "outputs": []
    },
    {
      "cell_type": "markdown",
      "metadata": {},
      "source": [
        "## \n",
        "Basisfunktion $\\quad \\varphi_{14}$"
      ],
      "id": "497e4667"
    },
    {
      "cell_type": "code",
      "metadata": {},
      "source": [
        "plotw(\n",
        "    m, \n",
        "    ei(NN, adofs[14]), \n",
        "    w=1200, h=550, # colorrange=[-1, 1], # colormap=:redblue,\n",
        "    limits=(nothing,nothing,(-1,1))\n",
        ")"
      ],
      "id": "6a3e22d7",
      "execution_count": null,
      "outputs": []
    },
    {
      "cell_type": "markdown",
      "metadata": {},
      "source": [
        "## \n",
        "Basisfunktion $\\quad \\varphi_{15}$"
      ],
      "id": "9b413df4"
    },
    {
      "cell_type": "code",
      "metadata": {},
      "source": [
        "plotw(\n",
        "    m, \n",
        "    ei(NN, adofs[15]), \n",
        "    w=1200, h=550, # colorrange=[-1, 1], # colormap=:redblue,\n",
        "    limits=(nothing,nothing,(-1,1))\n",
        ")"
      ],
      "id": "e06ee610",
      "execution_count": null,
      "outputs": []
    },
    {
      "cell_type": "markdown",
      "metadata": {},
      "source": [
        "## \n",
        "Basisfunktion $\\quad \\varphi_{16}$"
      ],
      "id": "9e5004b7"
    },
    {
      "cell_type": "code",
      "metadata": {},
      "source": [
        "plotw(\n",
        "    m, \n",
        "    ei(NN, adofs[16]), \n",
        "    w=1200, h=550, # colorrange=[-1, 1], # colormap=:redblue,\n",
        "    limits=(nothing,nothing,(-1,1))\n",
        ")"
      ],
      "id": "8206c31a",
      "execution_count": null,
      "outputs": []
    },
    {
      "cell_type": "markdown",
      "metadata": {},
      "source": [
        "## \n",
        "Zufällige Kombination 1/3"
      ],
      "id": "1c7dc6dc"
    },
    {
      "cell_type": "code",
      "metadata": {},
      "source": [
        "wrand = zeros(NN)\n",
        "wrand[adofs] = rand(NNa)\n",
        "plotw(\n",
        "    m, \n",
        "    wrand, \n",
        "    w=1200, h=550, # colorrange=[-1, 1], # colormap=:redblue,\n",
        "    limits=(nothing,nothing,(-1,1))\n",
        ")"
      ],
      "id": "acc5e4fe",
      "execution_count": null,
      "outputs": []
    },
    {
      "cell_type": "markdown",
      "metadata": {},
      "source": [
        "## \n",
        "Zufällige Kombination 2/3"
      ],
      "id": "d499507a"
    },
    {
      "cell_type": "code",
      "metadata": {},
      "source": [
        "wrand = zeros(NN)\n",
        "wrand[adofs] = rand(NNa)\n",
        "plotw(\n",
        "    m, \n",
        "    wrand, \n",
        "    w=1200, h=550, # colorrange=[-1, 1], # colormap=:redblue,\n",
        "    limits=(nothing,nothing,(-1,1))\n",
        ")"
      ],
      "id": "5bc4adbb",
      "execution_count": null,
      "outputs": []
    },
    {
      "cell_type": "markdown",
      "metadata": {},
      "source": [
        "## \n",
        "Zufällige Kombination 3/3"
      ],
      "id": "0537b9e0"
    },
    {
      "cell_type": "code",
      "metadata": {},
      "source": [
        "wrand = zeros(NN)\n",
        "wrand[adofs] = rand(NNa)\n",
        "plotw(\n",
        "    m, \n",
        "    wrand, \n",
        "    w=1200, h=550, # colorrange=[-1, 1], # colormap=:redblue,\n",
        "    limits=(nothing,nothing,(-1,1))\n",
        ")"
      ],
      "id": "1d4382c0",
      "execution_count": null,
      "outputs": []
    }
  ],
  "metadata": {
    "kernelspec": {
      "name": "julia-1.10",
      "language": "julia",
      "display_name": "Julia 1.10.3"
    }
  },
  "nbformat": 4,
  "nbformat_minor": 5
}