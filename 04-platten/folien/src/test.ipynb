{
 "cells": [
  {
   "cell_type": "code",
   "execution_count": 5,
   "metadata": {},
   "outputs": [],
   "source": [
    "using MMJMesh\n",
    "using MMJMesh.Meshes\n",
    "using MMJMesh.Plots\n",
    "using MMJMesh.Utilities\n",
    "using MMJMesh.Geometries\n",
    "using MMJMesh.Mathematics\n",
    "using MMJMesh.Mathematics: domain, domaintype\n",
    "using MMJMesh.Topologies\n",
    "using MMJMesh.MMJBase\n",
    "\n",
    "using WGLMakie"
   ]
  },
  {
   "cell_type": "code",
   "execution_count": 3,
   "metadata": {},
   "outputs": [
    {
     "ename": "UndefVarError",
     "evalue": "UndefVarError: `mmonomials` not defined",
     "output_type": "error",
     "traceback": [
      "UndefVarError: `mmonomials` not defined\n",
      "\n",
      "Stacktrace:\n",
      " [1] top-level scope\n",
      "   @ ~/sciebo/lehrveranstaltungen/feb/01-unterlagen/04-platten/folien/test.ipynb:2"
     ]
    }
   ],
   "source": [
    "V = [-1 1 1 -1; -1 -1 1 1]\n",
    "P = mmonomials(2, 3, QHat)\n",
    "N = vcat(\n",
    "    [\n",
    "        [\n",
    "            ValueAtLF(p),\n",
    "            PDerivativeAtLF(p, [1, 0]),\n",
    "            PDerivativeAtLF(p, [0, 1]),\n",
    "            PDerivativeAtLF(p, [1, 1])\n",
    "        ]\n",
    "        for p in eachcol(V)\n",
    "    ]...\n",
    ")\n",
    "M = [n(p) for p in P, n in N]\n",
    "H4 = round.(inv(M), digits=15) * P\n",
    "\n",
    "fplot3d(H4)"
   ]
  },
  {
   "cell_type": "code",
   "execution_count": null,
   "metadata": {},
   "outputs": [],
   "source": []
  }
 ],
 "metadata": {
  "kernelspec": {
   "display_name": "Julia 1.10.3",
   "language": "julia",
   "name": "julia-1.10"
  },
  "language_info": {
   "file_extension": ".jl",
   "mimetype": "application/julia",
   "name": "julia",
   "version": "1.10.3"
  }
 },
 "nbformat": 4,
 "nbformat_minor": 2
}
